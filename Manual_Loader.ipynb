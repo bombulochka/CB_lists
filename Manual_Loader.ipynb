{
 "cells": [
  {
   "cell_type": "code",
   "execution_count": 1,
   "id": "6ca3c127",
   "metadata": {},
   "outputs": [],
   "source": [
    "import pandas as pd\n",
    "import numpy as np\n",
    "import os\n",
    "import re\n",
    "import datetime as dt"
   ]
  },
  {
   "cell_type": "code",
   "execution_count": 2,
   "id": "3fdc3529",
   "metadata": {},
   "outputs": [],
   "source": [
    "df_names = pd.read_excel('Manual.xlsx', sheet_name=\"Name\", index_col=None)"
   ]
  },
  {
   "cell_type": "code",
   "execution_count": 3,
   "id": "dfe6ee0c",
   "metadata": {},
   "outputs": [],
   "source": [
    "df_INN = pd.read_excel('Manual.xlsx', sheet_name=\"TaxID\", index_col=None, dtype=({'ИНН':str}))"
   ]
  },
  {
   "cell_type": "code",
   "execution_count": 4,
   "id": "b68ebc8f",
   "metadata": {},
   "outputs": [],
   "source": [
    "df_ext = pd.read_excel('Manual.xlsx', sheet_name=\"Ext\", index_col=None, dtype=({'Индекс':str}))"
   ]
  },
  {
   "cell_type": "code",
   "execution_count": 5,
   "id": "66d7d867",
   "metadata": {},
   "outputs": [],
   "source": [
    "if df_names.empty == False:   \n",
    "    #Убираем символы переноса строки\n",
    "    df_names['Имя'] = df_names['Имя'].str.strip('\\n\\r\\\"\\(\\)')\n",
    "    #Заменяем недопустимые символы процентом\n",
    "    df_names['Имя'] = df_names['Имя'].str.replace('[^a-zA-Z0-9\\\\s\\\\-.\\$/:+%№]+', '%', regex = True)\n",
    "    #Обрезаем (имена с учетом маски до 28 символов, города до 13 символов)\n",
    "    df_names.loc[df_names['Имя'].str.len()>28, 'Имя']= df_names['Имя'].str[:28]\n",
    "    #Ставим маски для имен больше 7 символов\n",
    "    df_names.loc[df_names['Имя'].str.len()>=8, 'Имя']= '%' + df_names['Имя'] + '%'\n",
    "    #Заменяем несколько процентов подряд одним процентом\n",
    "    df_names['Имя'] = df_names['Имя'].str.replace('%{2,}', '%', regex = True)"
   ]
  },
  {
   "cell_type": "code",
   "execution_count": 6,
   "id": "2701ebbb",
   "metadata": {},
   "outputs": [],
   "source": [
    "if df_ext.empty == False:     \n",
    "    #Убираем символы переноса строки\n",
    "    df_ext['Имя'] = df_ext['Имя'].str.strip('\\n\\r\\\"\\(\\)')\n",
    "    df_ext['Город'] = df_ext['Город'].str.strip('\\n\\r \\\"\\(\\)')\n",
    "    #Заменяем недопустимые символы процентом\n",
    "    df_ext['Имя'] = df_ext['Имя'].str.replace('[^a-zA-Z0-9\\\\s\\\\-.\\$/:+%№]+', '%', regex = True)\n",
    "    df_ext['Город'] = df_ext['Город'].str.replace('[^a-zA-Z0-9\\\\s\\\\-.\\$/:+%№]+', '%', regex = True)\n",
    "    #Обрезаем (имена с учетом маски до 28 символов, города до 13 символов)\n",
    "    df_ext.loc[df_ext['Имя'].str.len()>28, 'Имя']= df_ext['Имя'].str[:28]\n",
    "    df_ext.loc[df_ext['Город'].str.len()>13, 'Город']= df_ext['Город'].str[:13]\n",
    "    #Ставим маски для имен больше 7 символов\n",
    "    df_ext.loc[df_ext['Имя'].str.len()>=8, 'Имя'] = '%' + df_ext['Имя'] + '%'\n",
    "    #Заменяем несколько процентов подряд одним процентом\n",
    "    df_ext['Имя'] = df_ext['Имя'].str.replace('%{2,}', '%', regex = True)"
   ]
  },
  {
   "cell_type": "code",
   "execution_count": 7,
   "id": "4e4a5532",
   "metadata": {},
   "outputs": [],
   "source": [
    "#Заголовки\n",
    "df_head = pd.DataFrame(columns=['FIXED VALUE', 'TABLE'])\n",
    "df_head['TABLE'] = ['CSAC$MERCHANTS_GROUP', 'CSAC$MERCHANTS_EXT_GROUP']\n",
    "df_head['FIXED VALUE'] = 'H'"
   ]
  },
  {
   "cell_type": "code",
   "execution_count": 8,
   "id": "8d894d1e",
   "metadata": {},
   "outputs": [],
   "source": [
    "if df_names.empty == False: \n",
    "    df_names_UFL = pd.DataFrame(columns=['Action', 'GROUP_ID', 'ATTRIBUTE', 'VALUE'])\n",
    "    df_names_UFL['Action'] = df_names['Добавить/удалить (A/D)']\n",
    "    df_names_UFL['GROUP_ID'] = df_names['Группа']\n",
    "    df_names_UFL['VALUE'] = df_names['Имя']\n",
    "    df_names_UFL['ATTRIBUTE'] = 'NAME'\n",
    "    df_UFL = df_names_UFL"
   ]
  },
  {
   "cell_type": "code",
   "execution_count": 9,
   "id": "d5e9d652",
   "metadata": {},
   "outputs": [],
   "source": [
    "if df_INN.empty == False: \n",
    "    df_INN_UFL = pd.DataFrame(columns=['Action', 'GROUP_ID', 'ATTRIBUTE', 'VALUE'])\n",
    "    df_INN_UFL['Action'] = df_INN['Добавить/удалить (A/D)']\n",
    "    df_INN_UFL['VALUE'] = df_INN['ИНН']\n",
    "    df_INN_UFL[['GROUP_ID', 'ATTRIBUTE']] = [202, 'TAXID']\n",
    "    df_UFL = df_INN_UFL"
   ]
  },
  {
   "cell_type": "code",
   "execution_count": 10,
   "id": "0d6cc7f2",
   "metadata": {},
   "outputs": [],
   "source": [
    "#Список для короткого файла\n",
    "if (df_names.empty == False) & (df_INN.empty == False):\n",
    "    df_UFL = pd.concat([df_INN_UFL, df_names_UFL])"
   ]
  },
  {
   "cell_type": "code",
   "execution_count": 11,
   "id": "ae123e49",
   "metadata": {},
   "outputs": [],
   "source": [
    "#Для расширенного файла\n",
    "df_ext.columns=['Action', 'GROUP_ID', 'NAME', 'LOCATION', 'MCC', 'MID', 'ZIP', 'TAXID', 'COUNTRY', 'CITY']"
   ]
  },
  {
   "cell_type": "code",
   "execution_count": 12,
   "id": "c56bdaef",
   "metadata": {},
   "outputs": [
    {
     "name": "stdout",
     "output_type": "stream",
     "text": [
      "Введите порядковый номер загрузки файлов в течение дня\n",
      "1\n"
     ]
    }
   ],
   "source": [
    "#Сохраняем все в csv\n",
    "n = int(input(\"Введите порядковый номер загрузки файлов в течение дня\\n\"))\n",
    "if (df_names.empty == False | df_INN.empty == False) & df_ext.empty == False:\n",
    "    filename1 = 'MGP_' + pd.to_datetime(\"today\").strftime(\"%Y%m%d\") + '_' + str(2*n-1).zfill(3) + '.csv'\n",
    "    filename2 = 'MGP_' + pd.to_datetime(\"today\").strftime(\"%Y%m%d\") + '_' + str(2*n).zfill(3) + '.csv'\n",
    "    df_head.loc[[0]].to_csv(filename1, sep=';', encoding='UTF-8', header=False, index=False, mode = 'w')\n",
    "    df_UFL.to_csv(filename1, sep=';', encoding='UTF-8', header=False, index=False, mode = 'a')\n",
    "    df_head.loc[[1]].to_csv(filename2, sep=';', encoding='UTF-8', header=False, index=False, mode = 'w')\n",
    "    df_ext.to_csv(filename2, sep=';', encoding='UTF-8', header=False, index=False, mode = 'a')\n",
    "else:\n",
    "    filename = 'MGP_' + pd.to_datetime(\"today\").strftime(\"%Y%m%d\") + '_' + str(2*n-1).zfill(3) + '.csv'\n",
    "    if df_names.empty == False | df_INN.empty == False:\n",
    "        df_head.loc[[0]].to_csv(filename, sep=';', encoding='UTF-8', header=False, index=False, mode = 'w')\n",
    "        df_UFL.to_csv(filename, sep=';', encoding='UTF-8', header=False, index=False, mode = 'a')\n",
    "    elif df_ext.empty == False:\n",
    "        df_head.loc[[1]].to_csv(filename, sep=';', encoding='UTF-8', header=False, index=False, mode = 'w')\n",
    "        df_ext.to_csv(filename, sep=';', encoding='UTF-8', header=False, index=False, mode = 'a')"
   ]
  }
 ],
 "metadata": {
  "kernelspec": {
   "display_name": "Python 3",
   "language": "python",
   "name": "python3"
  },
  "language_info": {
   "codemirror_mode": {
    "name": "ipython",
    "version": 3
   },
   "file_extension": ".py",
   "mimetype": "text/x-python",
   "name": "python",
   "nbconvert_exporter": "python",
   "pygments_lexer": "ipython3",
   "version": "3.8.8"
  }
 },
 "nbformat": 4,
 "nbformat_minor": 5
}
