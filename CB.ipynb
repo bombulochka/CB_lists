{
 "cells": [
  {
   "cell_type": "code",
   "execution_count": null,
   "metadata": {},
   "outputs": [],
   "source": [
    "import pandas as pd\n",
    "import numpy as np\n",
    "import os\n",
    "import re\n",
    "import datetime as dt"
   ]
  },
  {
   "cell_type": "code",
   "execution_count": null,
   "metadata": {},
   "outputs": [],
   "source": [
    "# Словарь для транслитерации и функции для преобразования букв в большие\n",
    "dic = {'ь':'', 'ъ':'', 'а':'a', 'б':'b','в':'v',\n",
    "       'г':'g', 'д':'d', 'е':'e', 'ё':'yo','ж':'zh',\n",
    "       'з':'z', 'и':'i', 'й':'j', 'к':'k', 'л':'l',\n",
    "       'м':'m', 'н':'n', 'о':'o', 'п':'p', 'р':'r', \n",
    "       'с':'s', 'т':'t', 'у':'u', 'ф':'f', 'х':'kh',\n",
    "       'ц':'ts', 'ч':'ch', 'ш':'sh', 'щ':'sch', 'ы':'y',\n",
    "       'э':'e', 'ю':'yu', 'я':'ya'}\n",
    " \n",
    "def tr(x):\n",
    "    t = ''\n",
    "    for i in x:\n",
    "        t+=dic.get(i.lower(), i.lower()).upper() if i.isupper() else dic.get(i, i)\n",
    "    return t\n",
    "def tr2(x):\n",
    "    t = ''\n",
    "    for i in x:\n",
    "        t+=dic.get(i.lower(), i.lower()).capitalize() if i.isupper() else dic.get(i, i)\n",
    "    return t"
   ]
  },
  {
   "cell_type": "code",
   "execution_count": null,
   "metadata": {},
   "outputs": [],
   "source": [
    "for filename in os.listdir('./inputsson'):\n",
    "    if filename.endswith('.csv'):\n",
    "        df = pd.read_csv('./inputsson/' + filename, sep=';', encoding='cp1251', dtype=({'INN':str, 'DT':str}), error_bad_lines=False, warn_bad_lines=True)\n",
    "df=df.drop(columns=['Unnamed: 9'])\n",
    "df.columns = ['Дата', 'Название', 'ИНН', 'Адрес', 'Сайт', 'Признаки, установленные Банком России', 'Регионы', 'Деятельность прекращена', 'Дополнительно']"
   ]
  },
  {
   "cell_type": "code",
   "execution_count": null,
   "metadata": {},
   "outputs": [],
   "source": [
    "for i in range(df['Дата'].shape[0]):\n",
    "    df['Дата'].iloc[i] = dt.datetime.strptime(df['Дата'].iloc[i], '%d.%m.%Y')"
   ]
  },
  {
   "cell_type": "code",
   "execution_count": null,
   "metadata": {},
   "outputs": [],
   "source": [
    "date_str = input(\"Введите дату, с которой формируются списки, в формате dd.mm.yyyy\\n\")\n",
    "new_date = dt.datetime.strptime(date_str, '%d.%m.%Y')\n",
    "df=df.loc[df['Дата'] >= new_date]"
   ]
  },
  {
   "cell_type": "code",
   "execution_count": null,
   "metadata": {},
   "outputs": [],
   "source": [
    "# Список ИНН\n",
    "df_INN = df['ИНН'].dropna().reset_index(drop = True)\n",
    "df_INN.to_csv('202_INN.csv', sep=';', encoding='cp1251', index=False)"
   ]
  },
  {
   "cell_type": "code",
   "execution_count": null,
   "metadata": {},
   "outputs": [],
   "source": [
    "# Список названий мерчантов с наличием адресов\n",
    "df_address = df[['Адрес', 'Название']]\n",
    "df_address = df_address.loc[pd.notnull(df_address['Адрес'])]\n",
    "# Разбиваем названия по запятым\n",
    "df_name = df_address['Название'].str.split(', ', expand=True)\n",
    "# Сводим с адресами\n",
    "df_address = pd.concat([df_address['Адрес'], df_name], axis = 1)\n",
    "# Названия одним столбцом\n",
    "df_address = df_address.set_index('Адрес').stack().reset_index(name='Имя').drop('level_1',axis='columns')"
   ]
  },
  {
   "cell_type": "code",
   "execution_count": null,
   "metadata": {},
   "outputs": [],
   "source": [
    "# Функция для получения имени в кавычках\n",
    "def quotes(df0):\n",
    "    for i in range(df0.shape[0]):\n",
    "        row = df0.iloc[i]\n",
    "        if re.search('\".+\".+\".+\".+\".+\".+\"(.+)\"', row):\n",
    "            df0.iloc[i] = re.search('\".+\".+\".+\".+\".+\".+\"(.+)\"', row).group(1)\n",
    "        elif re.search('\".+\".+\".+\".+\".+\"(.+)\"', row):\n",
    "            df0.iloc[i] = re.search('\".+\".+\".+\".+\".+\"(.+)\"', row).group(1)\n",
    "        elif re.search('\".+\".+\".+\".+\"(.+)\"', row):\n",
    "            df0.iloc[i] = re.search('\".+\".+\".+\".+\"(.+)\"', row).group(1)\n",
    "        elif re.search('\".+\".+\".+\"(.+)\"', row):\n",
    "            df0.iloc[i] = re.search('\".+\".+\".+\"(.+)\"', row).group(1)\n",
    "        elif re.search('\".+\".+\"(.+)\"', row):\n",
    "            df0.iloc[i] = re.search('\".+\".+\"(.+)\"', row).group(1)\n",
    "        elif re.search('\".+\"(.+)\"', row):\n",
    "            df0.iloc[i] = re.search('\".+\"(.+)\"', row).group(1)\n",
    "        elif re.search('[\"|«](.+)[\"|»]', row):\n",
    "            df0.iloc[i] = re.search('[\"|«](.+)[\"|»]', row).group(1)\n",
    "    return(df0)"
   ]
  },
  {
   "cell_type": "code",
   "execution_count": null,
   "metadata": {},
   "outputs": [],
   "source": [
    "# Получаем значения имен из кавычек\n",
    "quotes(df_address['Имя'])\n",
    "#Транслитерируем имена мерчантов\n",
    "for i in range(df_address['Имя'].shape[0]):\n",
    "    if re.search('[А-ЯЁ]{4}', df_address['Имя'].iloc[i]):\n",
    "        df_address['Имя'].iloc[i] = tr(df_address['Имя'].iloc[i])\n",
    "    else:\n",
    "        df_address['Имя'].iloc[i] = tr2(df_address['Имя'].iloc[i])"
   ]
  },
  {
   "cell_type": "code",
   "execution_count": null,
   "metadata": {},
   "outputs": [],
   "source": [
    "# Вставляем столбцы Индекс и Город\n",
    "df_address.insert(1, 'Индекс', None)\n",
    "df_address.insert(2, 'Город', 'FILL ' + df_address['Адрес'])\n",
    "# Получаем значения индексов\n",
    "for i in range(df_address['Адрес'].shape[0]):\n",
    "    row = df_address['Адрес'].iloc[i]\n",
    "    if re.match('(\\d{6}),', row):\n",
    "        df_address['Индекс'].iloc[i] = re.match('^(\\d{6}),', row).group(1)\n",
    "# # Убираем строки, в которых индекс отсутствует, для списка с индексами\n",
    "# df_index = df_address.loc[pd.notnull(df_address['Индекс'])]\n",
    "# df_index = df_index.drop_duplicates().reset_index(drop=True)\n",
    "# Получаем значения городов и сел\n",
    "for i in range(df_address['Адрес'].shape[0]):\n",
    "    row = df_address['Адрес'].iloc[i]\n",
    "    if re.search(',\\s{1,}[^\\.]*[г|с|п|д|Г|С|П|Д]\\.\\s([^,\\d\\.]+),', row):\n",
    "        df_address['Город'].iloc[i] = re.search(',\\s{1,}[^\\.]*[г|с|п|д|Г|С|П|Д]\\.\\s([^,\\d\\.]+),', row).group(1)\n",
    "# Транслитерируем города\n",
    "    if re.search('[А-ЯЁ]{4}', df_address['Город'].iloc[i]):\n",
    "        df_address['Город'].iloc[i] = tr(df_address['Город'].iloc[i])\n",
    "    else:\n",
    "        df_address['Город'].iloc[i] = tr2(df_address['Город'].iloc[i])\n",
    "#Удаляем дубликаты\n",
    "df_address = df_address.drop_duplicates().reset_index(drop=True)"
   ]
  },
  {
   "cell_type": "code",
   "execution_count": null,
   "metadata": {},
   "outputs": [],
   "source": [
    "# Имена мерчантов без условий на адрес и индекс, не вошедшие в предыдущий список, и все сайты\n",
    "df_names = df[~df['Адрес'].isin(df_address['Адрес'])]\n",
    "df_names = pd.concat([df_names['Название'], df['Сайт'].loc[pd.notnull(df['Сайт'])]], axis = 0)\n",
    "df_names = df_names.str.split(', ', expand=True)\n",
    "df_names = df_names.stack().reset_index(name='Имя').drop(['level_0', 'level_1'],axis='columns')\n",
    "# Получаем значения имен из кавычек\n",
    "quotes(df_names['Имя'])\n",
    "# Транслитерируем имена мерчантов\n",
    "for i in range(df_names['Имя'].shape[0]):\n",
    "    if re.search('[А-ЯЁ]{4}', df_names['Имя'].iloc[i]):\n",
    "        df_names['Имя'].iloc[i] = tr(df_names['Имя'].iloc[i])\n",
    "    else:\n",
    "        df_names['Имя'].iloc[i] = tr2(df_names['Имя'].iloc[i])\n",
    "# #Убираем домены из сайтов\n",
    "#     if re.search('\\.(ru|kz|su|rf)$', df_names['Имя'].iloc[i].lower()):\n",
    "#         df_names['Имя'].iloc[i] = re.sub('\\.(ru|kz|su|rf)$', '', df_names['Имя'].iloc[i].lower())\n",
    "#     elif re.search('\\.(com|org|net|biz)$', df_names['Имя'].iloc[i].lower()):\n",
    "#         df_names['Имя'].iloc[i] = re.sub('\\.(com|org|net|biz)$', '', df_names['Имя'].iloc[i].lower())\n",
    "#     if re.search('^(www)\\.', df_names['Имя'].iloc[i].lower()):\n",
    "#         df_names['Имя'].iloc[i] = re.sub('^(www)\\.', '', df_names['Имя'].iloc[i].lower())\n",
    "#Удаляем дубликаты\n",
    "df_names = df_names.drop_duplicates().reset_index(drop=True)"
   ]
  },
  {
   "cell_type": "code",
   "execution_count": null,
   "metadata": {},
   "outputs": [],
   "source": [
    "#Убираем пробелы в начале строк\n",
    "df_names['Имя'].loc[df_names['Имя'].str[0]==' '] = df_names['Имя'].str[1:]\n",
    "# df_index['Имя'].loc[df_index['Имя'].str[0]==' '] = df_index['Имя'].str[1:]\n",
    "# df_index['Индекс'].loc[df_index['Индекс'].str[0]==' '] = df_index['Индекс'].str[1:]\n",
    "df_address['Имя'].loc[df_address['Имя'].str[0]==' '] = df_address['Имя'].str[1:]\n",
    "df_address['Город'].loc[df_address['Город'].str[0]==' '] = df_address['Город'].str[1:]\n",
    "df_address['Индекс'].loc[df_address['Индекс'].str[0]==' '] = df_address['Индекс'].str[1:]"
   ]
  },
  {
   "cell_type": "code",
   "execution_count": null,
   "metadata": {},
   "outputs": [],
   "source": [
    "#Убираем символы переноса строки\n",
    "df_names['Имя'] = df_names['Имя'].str.rstrip('\\n\\r')\n",
    "df_address['Имя'] = df_address['Имя'].str.rstrip('\\n\\r')\n",
    "df_address['Город'] = df_address['Город'].str.rstrip('\\n\\r')\n",
    "df_address['Индекс'] = df_address['Индекс'].str.rstrip('\\n\\r')"
   ]
  },
  {
   "cell_type": "code",
   "execution_count": null,
   "metadata": {},
   "outputs": [],
   "source": [
    "#Делаем списки для ручной корректировки\n",
    "df_names.to_csv('201_Names_EPOS.csv', sep=';', encoding='cp1251', index=False)\n",
    "# df_index[['Имя', 'Индекс']].to_csv('203_Index.csv', sep=';', encoding='cp1251', index=False)\n",
    "df_address.drop(columns='Адрес').to_csv('203_205_Index_Cities.csv', sep=';', encoding='cp1251', index=False)"
   ]
  },
  {
   "cell_type": "code",
   "execution_count": null,
   "metadata": {},
   "outputs": [],
   "source": [
    "with open(\"Журнал обновления списков.txt\", \"a\") as file:\n",
    "    file.write('\\nПоследняя запись в списке ЦБ добавлена ' + df['Дата'].max().strftime('%d.%m.%Y'))"
   ]
  },
  {
   "cell_type": "code",
   "execution_count": null,
   "metadata": {},
   "outputs": [],
   "source": []
  }
 ],
 "metadata": {
  "kernelspec": {
   "display_name": "Python 3",
   "language": "python",
   "name": "python3"
  },
  "language_info": {
   "codemirror_mode": {
    "name": "ipython",
    "version": 3
   },
   "file_extension": ".py",
   "mimetype": "text/x-python",
   "name": "python",
   "nbconvert_exporter": "python",
   "pygments_lexer": "ipython3",
   "version": "3.8.8"
  }
 },
 "nbformat": 4,
 "nbformat_minor": 4
}
