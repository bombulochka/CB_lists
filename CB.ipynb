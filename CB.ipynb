{
 "cells": [
  {
   "cell_type": "code",
   "execution_count": 1,
   "metadata": {},
   "outputs": [],
   "source": [
    "import pandas as pd\n",
    "import numpy as np\n",
    "import os\n",
    "import re\n",
    "import datetime as dt\n",
    "import feltsson_lib as flt"
   ]
  },
  {
   "cell_type": "code",
   "execution_count": 2,
   "metadata": {},
   "outputs": [],
   "source": [
    "#Новый список\n",
    "for filename in os.listdir('./inputsson'):\n",
    "    if filename.endswith('.csv'):\n",
    "        df = pd.read_csv('./inputsson/' + filename, sep=';', encoding='cp1251', dtype=({'INN':str, 'DT':str}), error_bad_lines=False, warn_bad_lines=True)\n",
    "df=df.drop(columns=['Unnamed: 9'])\n",
    "df.columns = ['Дата', 'Название', 'ИНН', 'Адрес', 'Сайт', 'Признаки, установленные Банком России', 'Регионы', 'Деятельность прекращена', 'Дополнительно']"
   ]
  },
  {
   "cell_type": "code",
   "execution_count": 3,
   "metadata": {},
   "outputs": [],
   "source": [
    "#Cтарый список\n",
    "for filename in os.listdir('./inputsson/old'):\n",
    "    if filename.endswith('.csv'):\n",
    "        df_old = pd.read_csv('./inputsson/old/' + filename, sep=';', encoding='cp1251', dtype=({'INN':str, 'DT':str}), error_bad_lines=False, warn_bad_lines=True)\n",
    "df_old=df_old.drop(columns=['Unnamed: 9'])\n",
    "df_old.columns = ['Дата', 'Название', 'ИНН', 'Адрес', 'Сайт', 'Признаки, установленные Банком России', 'Регионы', 'Деятельность прекращена', 'Дополнительно']"
   ]
  },
  {
   "cell_type": "code",
   "execution_count": 4,
   "metadata": {},
   "outputs": [],
   "source": [
    "#Привоодим к формату даты и определяем последнюю загруженную дату\n",
    "df['Дата'] = df['Дата'].apply(lambda x: dt.datetime.strptime(x, '%d.%m.%Y'))\n",
    "df_old['Дата'] = df_old['Дата'].apply(lambda x: dt.datetime.strptime(x, '%d.%m.%Y'))\n",
    "last_date = max(df_old['Дата'])"
   ]
  },
  {
   "cell_type": "code",
   "execution_count": null,
   "metadata": {},
   "outputs": [],
   "source": [
    "#Сверка старого и свежего списков ЦБ на предмет удаленных ИНН\n",
    "df_new = df.loc[df['Дата'] <= last_date]\n",
    "df_INN_del = df_old.loc[~df_old['ИНН'].isin(df_new['ИНН']), 'ИНН']\n",
    "df_INN_del.to_csv('202_INN_DEL.csv', sep=';', encoding='cp1251', index=False)"
   ]
  },
  {
   "cell_type": "code",
   "execution_count": null,
   "metadata": {},
   "outputs": [],
   "source": [
    "#датафрейм с новыми записями\n",
    "df=df.loc[df['Дата'] > last_date]"
   ]
  },
  {
   "cell_type": "code",
   "execution_count": null,
   "metadata": {},
   "outputs": [],
   "source": [
    "# Список ИНН\n",
    "df_INN = df['ИНН'].dropna().reset_index(drop = True)\n",
    "df_INN.to_csv('202_INN.csv', sep=';', encoding='cp1251', index=False)"
   ]
  },
  {
   "cell_type": "code",
   "execution_count": null,
   "metadata": {},
   "outputs": [],
   "source": [
    "# Список названий мерчантов с наличием адресов\n",
    "df_address = df[['Адрес', 'Название']]\n",
    "df_address = df_address.loc[pd.notnull(df_address['Адрес'])]\n",
    "# Разбиваем названия по запятым и |\n",
    "df_name = df_address['Название'].str.split(', | \\| ', expand=True)\n",
    "# Сводим с адресами\n",
    "df_address = pd.concat([df_address['Адрес'], df_name], axis = 1)\n",
    "df_address = df_address.set_index('Адрес').stack().reset_index(name='Имя').drop('level_1',axis='columns')"
   ]
  },
  {
   "cell_type": "code",
   "execution_count": null,
   "metadata": {},
   "outputs": [],
   "source": [
    "# Получаем значения имен из кавычек\n",
    "flt.quotes(df_address['Имя'])\n",
    "#Транслитерируем имена мерчантов\n",
    "df_address['Имя'] = df_address['Имя'].apply(lambda x: flt.tr(x) if re.search('[А-ЯЁ]{4}', x) else flt.tr2(x))"
   ]
  },
  {
   "cell_type": "code",
   "execution_count": null,
   "metadata": {},
   "outputs": [],
   "source": [
    "# Вставляем столбцы Индекс и Город\n",
    "df_address.insert(1, 'Индекс', None)\n",
    "df_address.insert(2, 'Город', 'FILL ' + df_address['Адрес'])\n",
    "# Получаем значения индексов\n",
    "for i in range(df_address['Адрес'].shape[0]):\n",
    "    row = df_address['Адрес'].iloc[i]\n",
    "    if re.match('(\\d{6}),', row):\n",
    "        df_address['Индекс'].iloc[i] = re.match('^(\\d{6}),', row).group(1)\n",
    "# Получаем значения городов и сел\n",
    "for i in range(df_address['Адрес'].shape[0]):\n",
    "    row = df_address['Адрес'].iloc[i]\n",
    "    if re.search(',\\s{1,}[^\\.]*[г|с|п|д|Г|С|П|Д]\\.\\s([^,\\d\\.]+),', row):\n",
    "        df_address['Город'].iloc[i] = re.search(',\\s{1,}[^\\.]*[г|с|п|д|Г|С|П|Д]\\.\\s([^,\\d\\.]+),', row).group(1)\n",
    "# Транслитерируем города\n",
    "df_address['Город'] = df_address['Город'].apply(lambda x: flt.tr(x) if re.search('[А-ЯЁ]{4}', x) else flt.tr2(x))\n",
    "#Удаляем дубликаты\n",
    "df_address = df_address.drop_duplicates().reset_index(drop=True)"
   ]
  },
  {
   "cell_type": "code",
   "execution_count": null,
   "metadata": {},
   "outputs": [],
   "source": [
    "# Имена мерчантов без условий на адрес и индекс, не вошедшие в предыдущий список, и все сайты\n",
    "df_names = df[~df['Адрес'].isin(df_address['Адрес'])]\n",
    "df_names = pd.concat([df_names['Название'], df['Сайт'].loc[pd.notnull(df['Сайт'])]], axis = 0)\n",
    "df_names = df_names.str.split(', | \\| ', expand=True)\n",
    "df_names = df_names.stack().reset_index(name='Имя').drop(['level_0', 'level_1'],axis='columns')\n",
    "# Получаем значения имен из кавычек\n",
    "flt.quotes(df_names['Имя'])\n",
    "# Транслитерируем имена мерчантов\n",
    "df_names['Имя'] = df_names['Имя'].apply(lambda x: flt.tr(x) if re.search('[А-ЯЁ]{4}', x) else flt.tr2(x))\n",
    "#Убираем домены из сайтов\n",
    "df_names['Имя'] = df_names['Имя'].str.replace('[W{3}|w{3}]\\.', '', regex = True)\n",
    "df_names['Имя'] = df_names['Имя'].str.replace('\\.\\w{,4}$', '', regex = True)\n",
    "#Удаляем дубликаты\n",
    "df_names = df_names.drop_duplicates().reset_index(drop=True)"
   ]
  },
  {
   "cell_type": "code",
   "execution_count": null,
   "metadata": {},
   "outputs": [],
   "source": [
    "#Убираем \"мусорные\" слова\n",
    "df_trash = pd.read_excel('TrashWords.xlsx', header = None, index_col = None, dtype = str)\n",
    "for word in df_trash[0]:\n",
    "    df_names['Имя'] = df_names['Имя'].str.replace(word, '', regex = False)\n",
    "    df_address['Имя'] = df_address['Имя'].str.replace(word, '', regex = False)"
   ]
  },
  {
   "cell_type": "code",
   "execution_count": null,
   "metadata": {},
   "outputs": [],
   "source": [
    "#Убираем образовавшиеся пустые строки\n",
    "df_names = df_names[df_names['Имя'] != '']\n",
    "df_address = df_address[df_address['Имя'] != '']"
   ]
  },
  {
   "cell_type": "code",
   "execution_count": null,
   "metadata": {},
   "outputs": [],
   "source": [
    "#Убираем символы переноса строки, пробелы, кавычки и скобки\n",
    "df_names['Имя'] = df_names['Имя'].str.strip('\\n\\r \\\"\\(\\)')\n",
    "df_address['Имя'] = df_address['Имя'].str.strip('\\n\\r \\\"\\(\\)\\(\\)')\n",
    "df_address['Город'] = df_address['Город'].str.strip('\\n\\r \\\"\\(\\)')\n",
    "df_address['Индекс'] = df_address['Индекс'].str.strip('\\n\\r \\\"\\(\\)')"
   ]
  },
  {
   "cell_type": "code",
   "execution_count": null,
   "metadata": {},
   "outputs": [],
   "source": [
    "#Делаем списки для ручной корректировки\n",
    "df_names.to_csv('201_Names_EPOS.csv', sep=';', encoding='cp1251', index=False)\n",
    "df_address.drop(columns='Адрес').to_csv('203_205_Index_Cities.csv', sep=';', encoding='cp1251', index=False)"
   ]
  },
  {
   "cell_type": "code",
   "execution_count": null,
   "metadata": {},
   "outputs": [],
   "source": [
    "with open(\"Журнал обновления списков.txt\", \"a\") as file:\n",
    "    file.write('Последняя запись в списке ЦБ добавлена ' + df['Дата'].max().strftime('%d.%m.%Y') + '\\n')"
   ]
  }
 ],
 "metadata": {
  "kernelspec": {
   "display_name": "Python 3",
   "language": "python",
   "name": "python3"
  },
  "language_info": {
   "codemirror_mode": {
    "name": "ipython",
    "version": 3
   },
   "file_extension": ".py",
   "mimetype": "text/x-python",
   "name": "python",
   "nbconvert_exporter": "python",
   "pygments_lexer": "ipython3",
   "version": "3.8.8"
  }
 },
 "nbformat": 4,
 "nbformat_minor": 4
}
