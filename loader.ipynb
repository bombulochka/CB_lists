{
 "cells": [
  {
   "cell_type": "code",
   "execution_count": null,
   "id": "474b493e",
   "metadata": {},
   "outputs": [],
   "source": [
    "import pandas as pd\n",
    "import numpy as np\n",
    "import os\n",
    "import re\n",
    "import datetime as dt"
   ]
  },
  {
   "cell_type": "code",
   "execution_count": null,
   "id": "7703637b",
   "metadata": {},
   "outputs": [],
   "source": [
    "df_names = pd.read_csv('201_Names_EPOS.csv', sep=';', encoding='cp1251')\n",
    "df_INN = pd.read_csv('202_INN.csv', sep=';', encoding='cp1251', dtype=({'ИНН':str}))\n",
    "# df_index = pd.read_csv('203_Index.csv', sep=';', encoding='cp1251')\n",
    "df_address = pd.read_csv('203_205_Index_Cities.csv', sep=';', encoding='cp1251')"
   ]
  },
  {
   "cell_type": "code",
   "execution_count": null,
   "id": "04236461",
   "metadata": {},
   "outputs": [],
   "source": [
    "# Убираем строки, в которых индекс отсутствует, для списка с индексами\n",
    "df_index = df_address.loc[pd.notnull(df_address['Индекс'])]\n",
    "df_index = df_index.drop_duplicates().reset_index(drop=True)"
   ]
  },
  {
   "cell_type": "code",
   "execution_count": null,
   "id": "a87758cc",
   "metadata": {},
   "outputs": [],
   "source": [
    "#Ставим маски для имен больше 7 символов\n",
    "df_names['Имя'].loc[df_names['Имя'].str.len()>=8]= df_names['Имя'] + '%'\n",
    "df_index['Имя'].loc[df_index['Имя'].str.len()>=8]= df_index['Имя'] + '%'\n",
    "df_address['Имя'].loc[df_address['Имя'].str.len()>=8]= df_address['Имя'] + '%'"
   ]
  },
  {
   "cell_type": "code",
   "execution_count": null,
   "id": "b99a87f9",
   "metadata": {},
   "outputs": [],
   "source": [
    "#Заголовки\n",
    "df_head = pd.DataFrame(columns=['FIXED VALUE', 'TABLE'])\n",
    "df_head['TABLE'] = ['CSAC$MERCHANTS_GROUP', 'CSAC$MERCHANTS_EXT_GROUP']\n",
    "df_head['FIXED VALUE'] = 'H'\n",
    "df_head"
   ]
  },
  {
   "cell_type": "code",
   "execution_count": null,
   "id": "42e1d128",
   "metadata": {},
   "outputs": [],
   "source": [
    "#Записываем ИНН в файл\n",
    "df_INN_UFL = pd.DataFrame(columns=['Action', 'GROUP_ID', 'ATTRIBUTE', 'VALUE'])\n",
    "df_INN_UFL['VALUE'] = df_INN['ИНН']\n",
    "df_INN_UFL[['Action', 'GROUP_ID', 'ATTRIBUTE']] = ['A', 202, 'TAXID']\n",
    "df_INN_UFL"
   ]
  },
  {
   "cell_type": "code",
   "execution_count": null,
   "id": "c8d7d463",
   "metadata": {},
   "outputs": [],
   "source": [
    "#Записываем только имена в файл\n",
    "df_names_UFL = pd.DataFrame(columns=['Action', 'GROUP_ID', 'ATTRIBUTE', 'VALUE'])\n",
    "df_names_UFL['VALUE'] = df_names['Имя']\n",
    "df_names_UFL[['Action', 'GROUP_ID', 'ATTRIBUTE']] = ['A', 201, 'NAME']\n",
    "df_names_UFL"
   ]
  },
  {
   "cell_type": "code",
   "execution_count": null,
   "id": "0f14cf44",
   "metadata": {},
   "outputs": [],
   "source": [
    "#Список для короткого файла\n",
    "df_UFL = pd.concat([df_INN_UFL, df_names_UFL])\n",
    "df_UFL"
   ]
  },
  {
   "cell_type": "code",
   "execution_count": null,
   "id": "30a47d96",
   "metadata": {},
   "outputs": [],
   "source": [
    "#Записываем имена и индексы\n",
    "df_index_UFL = pd.DataFrame(columns=['Action', 'GROUP_ID', 'NAME', 'LOCATION', 'MCC', 'MID', 'ZIP', 'TAXID', 'COUNTRY', 'CITY'])\n",
    "df_index_UFL[['NAME', 'ZIP']] = df_index[['Имя', 'Индекс']]\n",
    "df_index_UFL[['Action', 'GROUP_ID']] = ['A', 203]\n",
    "df_index_UFL"
   ]
  },
  {
   "cell_type": "code",
   "execution_count": null,
   "id": "3d51ecdf",
   "metadata": {},
   "outputs": [],
   "source": [
    "#Записываем имена и город\n",
    "df_address_UFL = pd.DataFrame(columns=['Action', 'GROUP_ID', 'NAME', 'LOCATION', 'MCC', 'MID', 'ZIP', 'TAXID', 'COUNTRY', 'CITY'])\n",
    "df_address_UFL[['NAME', 'CITY']] = df_address[['Имя', 'Город']]\n",
    "df_address_UFL[['Action', 'GROUP_ID']] = ['A', 205]\n",
    "df_address_UFL"
   ]
  },
  {
   "cell_type": "code",
   "execution_count": null,
   "id": "5c6cf3f3",
   "metadata": {},
   "outputs": [],
   "source": [
    "#Список для расширенного файла\n",
    "df_UFL_ext = pd.concat([df_index_UFL, df_address_UFL])\n",
    "df_UFL_ext"
   ]
  },
  {
   "cell_type": "code",
   "execution_count": null,
   "id": "9bc54a4a",
   "metadata": {},
   "outputs": [],
   "source": [
    "#Сохраняем все в csv\n",
    "filename = 'MGP_' + pd.to_datetime(\"today\").strftime(\"%Y%m%d\") + '_' + input(\"Введите идентификатор файла в течение дня\\n\") + '.csv'\n",
    "df_head.loc[[0]].to_csv(filename, sep=';', encoding='UTF-8', header=False, index=False, mode = 'w')\n",
    "df_UFL.to_csv(filename, sep=';', encoding='UTF-8', header=False, index=False, mode = 'a')\n",
    "df_head.loc[[1]].to_csv(filename, sep=';', encoding='UTF-8', header=False, index=False, mode = 'a')\n",
    "df_UFL_ext.to_csv(filename, sep=';', encoding='UTF-8', header=False, index=False, mode = 'a')"
   ]
  },
  {
   "cell_type": "code",
   "execution_count": null,
   "id": "b651b79a",
   "metadata": {},
   "outputs": [],
   "source": []
  }
 ],
 "metadata": {
  "kernelspec": {
   "display_name": "Python 3",
   "language": "python",
   "name": "python3"
  },
  "language_info": {
   "codemirror_mode": {
    "name": "ipython",
    "version": 3
   },
   "file_extension": ".py",
   "mimetype": "text/x-python",
   "name": "python",
   "nbconvert_exporter": "python",
   "pygments_lexer": "ipython3",
   "version": "3.8.8"
  }
 },
 "nbformat": 4,
 "nbformat_minor": 5
}
